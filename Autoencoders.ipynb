{
 "cells": [
  {
   "cell_type": "markdown",
   "metadata": {},
   "source": [
    "# Autoencoders"
   ]
  },
  {
   "cell_type": "markdown",
   "metadata": {},
   "source": [
    "## Preprocess Images"
   ]
  },
  {
   "cell_type": "code",
   "execution_count": 1,
   "metadata": {},
   "outputs": [],
   "source": [
    "# Import libraries\n",
    "\n",
    "from random import randint\n",
    "import pandas as pd\n",
    "import numpy as np\n",
    "import matplotlib.pyplot as plt\n",
    "\n",
    "import tensorflow as tf\n",
    "\n",
    "from tensorflow.keras import layers\n",
    "from tensorflow import keras"
   ]
  },
  {
   "cell_type": "markdown",
   "metadata": {},
   "source": [
    "## Loading\n",
    "### A-Z Handwritten Alphabets\n",
    "Source: https://www.kaggle.com/sachinpatel21/az-handwritten-alphabets-in-csv-format"
   ]
  },
  {
   "cell_type": "code",
   "execution_count": 2,
   "metadata": {},
   "outputs": [
    {
     "data": {
      "text/html": [
       "<div>\n",
       "<style scoped>\n",
       "    .dataframe tbody tr th:only-of-type {\n",
       "        vertical-align: middle;\n",
       "    }\n",
       "\n",
       "    .dataframe tbody tr th {\n",
       "        vertical-align: top;\n",
       "    }\n",
       "\n",
       "    .dataframe thead th {\n",
       "        text-align: right;\n",
       "    }\n",
       "</style>\n",
       "<table border=\"1\" class=\"dataframe\">\n",
       "  <thead>\n",
       "    <tr style=\"text-align: right;\">\n",
       "      <th></th>\n",
       "      <th>0</th>\n",
       "      <th>1</th>\n",
       "      <th>2</th>\n",
       "      <th>3</th>\n",
       "      <th>4</th>\n",
       "      <th>5</th>\n",
       "      <th>6</th>\n",
       "      <th>7</th>\n",
       "      <th>8</th>\n",
       "      <th>9</th>\n",
       "      <th>...</th>\n",
       "      <th>775</th>\n",
       "      <th>776</th>\n",
       "      <th>777</th>\n",
       "      <th>778</th>\n",
       "      <th>779</th>\n",
       "      <th>780</th>\n",
       "      <th>781</th>\n",
       "      <th>782</th>\n",
       "      <th>783</th>\n",
       "      <th>784</th>\n",
       "    </tr>\n",
       "  </thead>\n",
       "  <tbody>\n",
       "    <tr>\n",
       "      <th>280923</th>\n",
       "      <td>18</td>\n",
       "      <td>0</td>\n",
       "      <td>0</td>\n",
       "      <td>0</td>\n",
       "      <td>0</td>\n",
       "      <td>0</td>\n",
       "      <td>0</td>\n",
       "      <td>0</td>\n",
       "      <td>0</td>\n",
       "      <td>0</td>\n",
       "      <td>...</td>\n",
       "      <td>0</td>\n",
       "      <td>0</td>\n",
       "      <td>0</td>\n",
       "      <td>0</td>\n",
       "      <td>0</td>\n",
       "      <td>0</td>\n",
       "      <td>0</td>\n",
       "      <td>0</td>\n",
       "      <td>0</td>\n",
       "      <td>0</td>\n",
       "    </tr>\n",
       "    <tr>\n",
       "      <th>72613</th>\n",
       "      <td>6</td>\n",
       "      <td>0</td>\n",
       "      <td>0</td>\n",
       "      <td>0</td>\n",
       "      <td>0</td>\n",
       "      <td>0</td>\n",
       "      <td>0</td>\n",
       "      <td>0</td>\n",
       "      <td>0</td>\n",
       "      <td>0</td>\n",
       "      <td>...</td>\n",
       "      <td>0</td>\n",
       "      <td>0</td>\n",
       "      <td>0</td>\n",
       "      <td>0</td>\n",
       "      <td>0</td>\n",
       "      <td>0</td>\n",
       "      <td>0</td>\n",
       "      <td>0</td>\n",
       "      <td>0</td>\n",
       "      <td>0</td>\n",
       "    </tr>\n",
       "    <tr>\n",
       "      <th>326526</th>\n",
       "      <td>20</td>\n",
       "      <td>0</td>\n",
       "      <td>0</td>\n",
       "      <td>0</td>\n",
       "      <td>0</td>\n",
       "      <td>0</td>\n",
       "      <td>0</td>\n",
       "      <td>0</td>\n",
       "      <td>0</td>\n",
       "      <td>0</td>\n",
       "      <td>...</td>\n",
       "      <td>0</td>\n",
       "      <td>0</td>\n",
       "      <td>0</td>\n",
       "      <td>0</td>\n",
       "      <td>0</td>\n",
       "      <td>0</td>\n",
       "      <td>0</td>\n",
       "      <td>0</td>\n",
       "      <td>0</td>\n",
       "      <td>0</td>\n",
       "    </tr>\n",
       "    <tr>\n",
       "      <th>64877</th>\n",
       "      <td>4</td>\n",
       "      <td>0</td>\n",
       "      <td>0</td>\n",
       "      <td>0</td>\n",
       "      <td>0</td>\n",
       "      <td>0</td>\n",
       "      <td>0</td>\n",
       "      <td>0</td>\n",
       "      <td>0</td>\n",
       "      <td>0</td>\n",
       "      <td>...</td>\n",
       "      <td>0</td>\n",
       "      <td>0</td>\n",
       "      <td>0</td>\n",
       "      <td>0</td>\n",
       "      <td>0</td>\n",
       "      <td>0</td>\n",
       "      <td>0</td>\n",
       "      <td>0</td>\n",
       "      <td>0</td>\n",
       "      <td>0</td>\n",
       "    </tr>\n",
       "    <tr>\n",
       "      <th>307101</th>\n",
       "      <td>20</td>\n",
       "      <td>0</td>\n",
       "      <td>0</td>\n",
       "      <td>0</td>\n",
       "      <td>0</td>\n",
       "      <td>0</td>\n",
       "      <td>0</td>\n",
       "      <td>0</td>\n",
       "      <td>0</td>\n",
       "      <td>0</td>\n",
       "      <td>...</td>\n",
       "      <td>0</td>\n",
       "      <td>0</td>\n",
       "      <td>0</td>\n",
       "      <td>0</td>\n",
       "      <td>0</td>\n",
       "      <td>0</td>\n",
       "      <td>0</td>\n",
       "      <td>0</td>\n",
       "      <td>0</td>\n",
       "      <td>0</td>\n",
       "    </tr>\n",
       "    <tr>\n",
       "      <th>182309</th>\n",
       "      <td>14</td>\n",
       "      <td>0</td>\n",
       "      <td>0</td>\n",
       "      <td>0</td>\n",
       "      <td>0</td>\n",
       "      <td>0</td>\n",
       "      <td>0</td>\n",
       "      <td>0</td>\n",
       "      <td>0</td>\n",
       "      <td>0</td>\n",
       "      <td>...</td>\n",
       "      <td>0</td>\n",
       "      <td>0</td>\n",
       "      <td>0</td>\n",
       "      <td>0</td>\n",
       "      <td>0</td>\n",
       "      <td>0</td>\n",
       "      <td>0</td>\n",
       "      <td>0</td>\n",
       "      <td>0</td>\n",
       "      <td>0</td>\n",
       "    </tr>\n",
       "    <tr>\n",
       "      <th>15206</th>\n",
       "      <td>1</td>\n",
       "      <td>0</td>\n",
       "      <td>0</td>\n",
       "      <td>0</td>\n",
       "      <td>0</td>\n",
       "      <td>0</td>\n",
       "      <td>0</td>\n",
       "      <td>0</td>\n",
       "      <td>0</td>\n",
       "      <td>0</td>\n",
       "      <td>...</td>\n",
       "      <td>0</td>\n",
       "      <td>0</td>\n",
       "      <td>0</td>\n",
       "      <td>0</td>\n",
       "      <td>0</td>\n",
       "      <td>0</td>\n",
       "      <td>0</td>\n",
       "      <td>0</td>\n",
       "      <td>0</td>\n",
       "      <td>0</td>\n",
       "    </tr>\n",
       "    <tr>\n",
       "      <th>200159</th>\n",
       "      <td>15</td>\n",
       "      <td>0</td>\n",
       "      <td>0</td>\n",
       "      <td>0</td>\n",
       "      <td>0</td>\n",
       "      <td>0</td>\n",
       "      <td>0</td>\n",
       "      <td>0</td>\n",
       "      <td>0</td>\n",
       "      <td>0</td>\n",
       "      <td>...</td>\n",
       "      <td>0</td>\n",
       "      <td>0</td>\n",
       "      <td>0</td>\n",
       "      <td>0</td>\n",
       "      <td>0</td>\n",
       "      <td>0</td>\n",
       "      <td>0</td>\n",
       "      <td>0</td>\n",
       "      <td>0</td>\n",
       "      <td>0</td>\n",
       "    </tr>\n",
       "    <tr>\n",
       "      <th>157130</th>\n",
       "      <td>14</td>\n",
       "      <td>0</td>\n",
       "      <td>0</td>\n",
       "      <td>0</td>\n",
       "      <td>0</td>\n",
       "      <td>0</td>\n",
       "      <td>0</td>\n",
       "      <td>0</td>\n",
       "      <td>0</td>\n",
       "      <td>0</td>\n",
       "      <td>...</td>\n",
       "      <td>0</td>\n",
       "      <td>0</td>\n",
       "      <td>0</td>\n",
       "      <td>0</td>\n",
       "      <td>0</td>\n",
       "      <td>0</td>\n",
       "      <td>0</td>\n",
       "      <td>0</td>\n",
       "      <td>0</td>\n",
       "      <td>0</td>\n",
       "    </tr>\n",
       "    <tr>\n",
       "      <th>294532</th>\n",
       "      <td>19</td>\n",
       "      <td>0</td>\n",
       "      <td>0</td>\n",
       "      <td>0</td>\n",
       "      <td>0</td>\n",
       "      <td>0</td>\n",
       "      <td>0</td>\n",
       "      <td>0</td>\n",
       "      <td>0</td>\n",
       "      <td>0</td>\n",
       "      <td>...</td>\n",
       "      <td>0</td>\n",
       "      <td>0</td>\n",
       "      <td>0</td>\n",
       "      <td>0</td>\n",
       "      <td>0</td>\n",
       "      <td>0</td>\n",
       "      <td>0</td>\n",
       "      <td>0</td>\n",
       "      <td>0</td>\n",
       "      <td>0</td>\n",
       "    </tr>\n",
       "  </tbody>\n",
       "</table>\n",
       "<p>10 rows × 785 columns</p>\n",
       "</div>"
      ],
      "text/plain": [
       "        0    1    2    3    4    5    6    7    8    9    ...  775  776  777  \\\n",
       "280923   18    0    0    0    0    0    0    0    0    0  ...    0    0    0   \n",
       "72613     6    0    0    0    0    0    0    0    0    0  ...    0    0    0   \n",
       "326526   20    0    0    0    0    0    0    0    0    0  ...    0    0    0   \n",
       "64877     4    0    0    0    0    0    0    0    0    0  ...    0    0    0   \n",
       "307101   20    0    0    0    0    0    0    0    0    0  ...    0    0    0   \n",
       "182309   14    0    0    0    0    0    0    0    0    0  ...    0    0    0   \n",
       "15206     1    0    0    0    0    0    0    0    0    0  ...    0    0    0   \n",
       "200159   15    0    0    0    0    0    0    0    0    0  ...    0    0    0   \n",
       "157130   14    0    0    0    0    0    0    0    0    0  ...    0    0    0   \n",
       "294532   19    0    0    0    0    0    0    0    0    0  ...    0    0    0   \n",
       "\n",
       "        778  779  780  781  782  783  784  \n",
       "280923    0    0    0    0    0    0    0  \n",
       "72613     0    0    0    0    0    0    0  \n",
       "326526    0    0    0    0    0    0    0  \n",
       "64877     0    0    0    0    0    0    0  \n",
       "307101    0    0    0    0    0    0    0  \n",
       "182309    0    0    0    0    0    0    0  \n",
       "15206     0    0    0    0    0    0    0  \n",
       "200159    0    0    0    0    0    0    0  \n",
       "157130    0    0    0    0    0    0    0  \n",
       "294532    0    0    0    0    0    0    0  \n",
       "\n",
       "[10 rows x 785 columns]"
      ]
     },
     "execution_count": 2,
     "metadata": {},
     "output_type": "execute_result"
    }
   ],
   "source": [
    "# Load handwritten alphatbet dataset\n",
    "\n",
    "alphabets_data = pd.read_csv('datasets/A_Z Handwritten Data.csv', header=None)\n",
    "\n",
    "alphabets_data.sample(10)"
   ]
  },
  {
   "cell_type": "code",
   "execution_count": 3,
   "metadata": {},
   "outputs": [
    {
     "data": {
      "text/plain": [
       "(372451, 785)"
      ]
     },
     "execution_count": 3,
     "metadata": {},
     "output_type": "execute_result"
    }
   ],
   "source": [
    "# Data shape\n",
    "\n",
    "alphabets_data.shape"
   ]
  },
  {
   "cell_type": "code",
   "execution_count": 4,
   "metadata": {},
   "outputs": [
    {
     "data": {
      "text/plain": [
       "(18623, 785)"
      ]
     },
     "execution_count": 4,
     "metadata": {},
     "output_type": "execute_result"
    }
   ],
   "source": [
    "# Lets use 5 percent of the data\n",
    "\n",
    "alphabets_data = alphabets_data.sample(frac=0.05).reset_index(drop=True)\n",
    "\n",
    "alphabets_data.shape"
   ]
  },
  {
   "cell_type": "code",
   "execution_count": 5,
   "metadata": {},
   "outputs": [
    {
     "data": {
      "text/plain": [
       "[0,\n",
       " 1,\n",
       " 2,\n",
       " 3,\n",
       " 4,\n",
       " 5,\n",
       " 6,\n",
       " 7,\n",
       " 8,\n",
       " 9,\n",
       " 10,\n",
       " 11,\n",
       " 12,\n",
       " 13,\n",
       " 14,\n",
       " 15,\n",
       " 16,\n",
       " 17,\n",
       " 18,\n",
       " 19,\n",
       " 20,\n",
       " 21,\n",
       " 22,\n",
       " 23,\n",
       " 24,\n",
       " 25]"
      ]
     },
     "execution_count": 5,
     "metadata": {},
     "output_type": "execute_result"
    }
   ],
   "source": [
    "sorted(alphabets_data[0].unique())"
   ]
  },
  {
   "cell_type": "code",
   "execution_count": 6,
   "metadata": {},
   "outputs": [],
   "source": [
    "# Setup a lookup dictionary\n",
    "\n",
    "lookup = { 0: 'A', 1: 'B', 2: 'C', 3: 'D',\n",
    "           4: 'E', 5: 'F', 6: 'G', 7: 'H',\n",
    "           8: 'I', 9: 'J', 10: 'K', 11:'L',\n",
    "           12: 'M', 13: 'N', 14: 'O', 15: 'P',\n",
    "           16: 'Q', 17: 'R', 18: 'S', 19: 'T',\n",
    "           20: 'U', 21: 'V', 22: 'W', 23: 'X',\n",
    "           24: 'Y', 25: 'Z'\n",
    "         }"
   ]
  },
  {
   "cell_type": "code",
   "execution_count": 7,
   "metadata": {},
   "outputs": [],
   "source": [
    "# Extract features from the data\n",
    "\n",
    "features = alphabets_data[alphabets_data.columns[1:]]\n",
    "\n",
    "target = alphabets_data[0]"
   ]
  },
  {
   "cell_type": "code",
   "execution_count": 8,
   "metadata": {},
   "outputs": [
    {
     "data": {
      "text/plain": [
       "(18623, 784)"
      ]
     },
     "execution_count": 8,
     "metadata": {},
     "output_type": "execute_result"
    }
   ],
   "source": [
    "# Shape of the features\n",
    "\n",
    "features.shape"
   ]
  },
  {
   "cell_type": "code",
   "execution_count": 9,
   "metadata": {},
   "outputs": [],
   "source": [
    "# Reshape our features into 28 x 28 pictures\n",
    "\n",
    "features = features.values.reshape(len(features), 28, 28)"
   ]
  },
  {
   "cell_type": "code",
   "execution_count": 10,
   "metadata": {},
   "outputs": [
    {
     "data": {
      "text/plain": [
       "(18623, 28, 28)"
      ]
     },
     "execution_count": 10,
     "metadata": {},
     "output_type": "execute_result"
    }
   ],
   "source": [
    "features.shape"
   ]
  },
  {
   "cell_type": "code",
   "execution_count": 11,
   "metadata": {},
   "outputs": [
    {
     "data": {
      "text/plain": [
       "24"
      ]
     },
     "execution_count": 11,
     "metadata": {},
     "output_type": "execute_result"
    }
   ],
   "source": [
    "# label correponding at index 10\n",
    "\n",
    "target.loc[10]"
   ]
  },
  {
   "cell_type": "code",
   "execution_count": 12,
   "metadata": {},
   "outputs": [
    {
     "data": {
      "text/plain": [
       "array([[  0,   0,   0,   0,   1,   1, 178, 255, 254, 134,   0,   0,   0,\n",
       "          0,   0,  15, 159, 255, 249,  98,   5,   0,   0,   0,   0,   0,\n",
       "          0,   0],\n",
       "       [  0,   0,   0,   0,   0,   0,  95, 250, 255, 201,   0,   0,   0,\n",
       "          0,   1,  97, 237, 255, 161,  18,   0,   0,   0,   0,   0,   0,\n",
       "          0,   0],\n",
       "       [  0,   0,   0,   0,   0,   0,  22, 184, 255, 239,  38,   0,   0,\n",
       "          0,  55, 207, 255, 232,  55,   0,   0,   0,   0,   0,   0,   0,\n",
       "          0,   0],\n",
       "       [  0,   0,   0,   0,   0,   0,   0, 111, 255, 253, 151,   5,   0,\n",
       "         34, 172, 255, 250, 116,   8,   0,   0,   0,   0,   0,   0,   0,\n",
       "          0,   0],\n",
       "       [  0,   0,   0,   0,   0,   0,   0,  50, 227, 255, 241,  19,  13,\n",
       "        132, 247, 250, 170,  13,   0,   0,   0,   0,   0,   0,   0,   0,\n",
       "          0,   0]], dtype=int64)"
      ]
     },
     "execution_count": 12,
     "metadata": {},
     "output_type": "execute_result"
    }
   ],
   "source": [
    "# Features of the image\n",
    "\n",
    "features[10][10:15]"
   ]
  },
  {
   "cell_type": "markdown",
   "metadata": {},
   "source": [
    "### Displaying image"
   ]
  },
  {
   "cell_type": "code",
   "execution_count": 13,
   "metadata": {},
   "outputs": [],
   "source": [
    "# Helper function to display image and label associated with image\n",
    "\n",
    "def show_image(features, actual_label):\n",
    "    \n",
    "    print(\"Actual label: \", lookup[actual_label])\n",
    "    plt.imshow(features, cmap='Greys')\n",
    "    \n",
    "    plt.show()"
   ]
  },
  {
   "cell_type": "code",
   "execution_count": 14,
   "metadata": {},
   "outputs": [
    {
     "name": "stdout",
     "output_type": "stream",
     "text": [
      "Actual label:  Y\n"
     ]
    },
    {
     "data": {
      "image/png": "[encoded data removed]",
      "text/plain": [
       "<Figure size 432x288 with 1 Axes>"
      ]
     },
     "metadata": {
      "needs_background": "light"
     },
     "output_type": "display_data"
    }
   ],
   "source": [
    "show_image(features[10], target[10])"
   ]
  },
  {
   "cell_type": "code",
   "execution_count": 15,
   "metadata": {},
   "outputs": [
    {
     "name": "stdout",
     "output_type": "stream",
     "text": [
      "Actual label:  O\n"
     ]
    },
    {
     "data": {
      "image/png": "[encoded data removed]",
      "text/plain": [
       "<Figure size 432x288 with 1 Axes>"
      ]
     },
     "metadata": {
      "needs_background": "light"
     },
     "output_type": "display_data"
    }
   ],
   "source": [
    "show_image(features[20], target[20])"
   ]
  },
  {
   "cell_type": "markdown",
   "metadata": {},
   "source": [
    "#### Scale these values to a range of 0 to 1 before feeding them to the neural network model. To do so, divide the values by 255"
   ]
  },
  {
   "cell_type": "code",
   "execution_count": 16,
   "metadata": {},
   "outputs": [],
   "source": [
    "features = features.astype(np.float32) / 255"
   ]
  },
  {
   "cell_type": "code",
   "execution_count": 17,
   "metadata": {},
   "outputs": [
    {
     "data": {
      "text/plain": [
       "array([[0.        , 0.        , 0.        , 0.        , 0.00392157,\n",
       "        0.00392157, 0.69803923, 1.        , 0.99607843, 0.5254902 ,\n",
       "        0.        , 0.        , 0.        , 0.        , 0.        ,\n",
       "        0.05882353, 0.62352943, 1.        , 0.9764706 , 0.38431373,\n",
       "        0.01960784, 0.        , 0.        , 0.        , 0.        ,\n",
       "        0.        , 0.        , 0.        ],\n",
       "       [0.        , 0.        , 0.        , 0.        , 0.        ,\n",
       "        0.        , 0.37254903, 0.98039216, 1.        , 0.7882353 ,\n",
       "        0.        , 0.        , 0.        , 0.        , 0.00392157,\n",
       "        0.38039216, 0.92941177, 1.        , 0.6313726 , 0.07058824,\n",
       "        0.        , 0.        , 0.        , 0.        , 0.        ,\n",
       "        0.        , 0.        , 0.        ],\n",
       "       [0.        , 0.        , 0.        , 0.        , 0.        ,\n",
       "        0.        , 0.08627451, 0.72156864, 1.        , 0.9372549 ,\n",
       "        0.14901961, 0.        , 0.        , 0.        , 0.21568628,\n",
       "        0.8117647 , 1.        , 0.9098039 , 0.21568628, 0.        ,\n",
       "        0.        , 0.        , 0.        , 0.        , 0.        ,\n",
       "        0.        , 0.        , 0.        ],\n",
       "       [0.        , 0.        , 0.        , 0.        , 0.        ,\n",
       "        0.        , 0.        , 0.43529412, 1.        , 0.99215686,\n",
       "        0.5921569 , 0.01960784, 0.        , 0.13333334, 0.6745098 ,\n",
       "        1.        , 0.98039216, 0.45490196, 0.03137255, 0.        ,\n",
       "        0.        , 0.        , 0.        , 0.        , 0.        ,\n",
       "        0.        , 0.        , 0.        ],\n",
       "       [0.        , 0.        , 0.        , 0.        , 0.        ,\n",
       "        0.        , 0.        , 0.19607843, 0.8901961 , 1.        ,\n",
       "        0.94509804, 0.07450981, 0.05098039, 0.5176471 , 0.96862745,\n",
       "        0.98039216, 0.6666667 , 0.05098039, 0.        , 0.        ,\n",
       "        0.        , 0.        , 0.        , 0.        , 0.        ,\n",
       "        0.        , 0.        , 0.        ],\n",
       "       [0.        , 0.        , 0.        , 0.        , 0.        ,\n",
       "        0.        , 0.        , 0.01960784, 0.56078434, 1.        ,\n",
       "        1.        , 0.41960785, 0.4392157 , 0.8901961 , 1.        ,\n",
       "        0.8117647 , 0.19215687, 0.        , 0.        , 0.        ,\n",
       "        0.        , 0.        , 0.        , 0.        , 0.        ,\n",
       "        0.        , 0.        , 0.        ],\n",
       "       [0.        , 0.        , 0.        , 0.        , 0.        ,\n",
       "        0.        , 0.        , 0.        , 0.1764706 , 0.92941177,\n",
       "        1.        , 0.88235295, 0.9098039 , 1.        , 0.8352941 ,\n",
       "        0.36862746, 0.        , 0.        , 0.        , 0.        ,\n",
       "        0.        , 0.        , 0.        , 0.        , 0.        ,\n",
       "        0.        , 0.        , 0.        ],\n",
       "       [0.        , 0.        , 0.        , 0.        , 0.        ,\n",
       "        0.        , 0.        , 0.        , 0.00392157, 0.6431373 ,\n",
       "        1.        , 1.        , 1.        , 0.96862745, 0.44313726,\n",
       "        0.00392157, 0.        , 0.        , 0.        , 0.        ,\n",
       "        0.        , 0.        , 0.        , 0.        , 0.        ,\n",
       "        0.        , 0.        , 0.        ],\n",
       "       [0.        , 0.        , 0.        , 0.        , 0.        ,\n",
       "        0.        , 0.        , 0.        , 0.        , 0.26666668,\n",
       "        1.        , 1.        , 1.        , 0.92156863, 0.16470589,\n",
       "        0.        , 0.        , 0.        , 0.        , 0.        ,\n",
       "        0.        , 0.        , 0.        , 0.        , 0.        ,\n",
       "        0.        , 0.        , 0.        ],\n",
       "       [0.        , 0.        , 0.        , 0.        , 0.        ,\n",
       "        0.        , 0.        , 0.        , 0.04313726, 0.3372549 ,\n",
       "        1.        , 1.        , 1.        , 0.9098039 , 0.12156863,\n",
       "        0.        , 0.        , 0.        , 0.        , 0.        ,\n",
       "        0.        , 0.        , 0.        , 0.        , 0.        ,\n",
       "        0.        , 0.        , 0.        ]], dtype=float32)"
      ]
     },
     "execution_count": 17,
     "metadata": {},
     "output_type": "execute_result"
    }
   ],
   "source": [
    "# Lets see scaled pixel values\n",
    "\n",
    "features[10][10:20]"
   ]
  },
  {
   "cell_type": "markdown",
   "metadata": {},
   "source": [
    "### Splitting dataset into training and testing data"
   ]
  },
  {
   "cell_type": "code",
   "execution_count": 20,
   "metadata": {},
   "outputs": [],
   "source": [
    "# Train test split\n",
    "\n",
    "from sklearn.model_selection import train_test_split\n",
    "\n",
    "train_images, test_images, train_labels, test_labels = train_test_split(features,\n",
    "                                                                        target,\n",
    "                                                                        test_size=0.2)"
   ]
  },
  {
   "cell_type": "code",
   "execution_count": 21,
   "metadata": {},
   "outputs": [
    {
     "data": {
      "text/plain": [
       "(14898, 28, 28)"
      ]
     },
     "execution_count": 21,
     "metadata": {},
     "output_type": "execute_result"
    }
   ],
   "source": [
    "# Train shape\n",
    "\n",
    "train_images.shape"
   ]
  },
  {
   "cell_type": "code",
   "execution_count": 23,
   "metadata": {},
   "outputs": [
    {
     "data": {
      "text/plain": [
       "(3725, 28, 28)"
      ]
     },
     "execution_count": 23,
     "metadata": {},
     "output_type": "execute_result"
    }
   ],
   "source": [
    "# Test_images.shape\n",
    "\n",
    "test_images.shape"
   ]
  },
  {
   "cell_type": "markdown",
   "metadata": {},
   "source": [
    "## Reconstructing Images Using a Stacked Autoencoder"
   ]
  },
  {
   "cell_type": "code",
   "execution_count": 24,
   "metadata": {},
   "outputs": [],
   "source": [
    "# Building stack encoder using Sequential model\n",
    "\n",
    "stacked_encoder = tf.keras.models.Sequential([\n",
    "    \n",
    "    layers.Flatten(input_shape=[28, 28]),\n",
    "    \n",
    "    layers.Dense(64, activation=\"relu\"),\n",
    "    layers.Dense(32, activation='relu'),\n",
    "    \n",
    "    layers.Dense(16, activation=\"relu\")\n",
    "])"
   ]
  },
  {
   "cell_type": "code",
   "execution_count": 25,
   "metadata": {},
   "outputs": [
    {
     "name": "stdout",
     "output_type": "stream",
     "text": [
      "Model: \"sequential\"\n",
      "_________________________________________________________________\n",
      "Layer (type)                 Output Shape              Param #   \n",
      "=================================================================\n",
      "flatten (Flatten)            (None, 784)               0         \n",
      "_________________________________________________________________\n",
      "dense (Dense)                (None, 64)                50240     \n",
      "_________________________________________________________________\n",
      "dense_1 (Dense)              (None, 32)                2080      \n",
      "_________________________________________________________________\n",
      "dense_2 (Dense)              (None, 16)                528       \n",
      "=================================================================\n",
      "Total params: 52,848\n",
      "Trainable params: 52,848\n",
      "Non-trainable params: 0\n",
      "_________________________________________________________________\n"
     ]
    }
   ],
   "source": [
    "stacked_encoder.summary()"
   ]
  },
  {
   "cell_type": "code",
   "execution_count": 26,
   "metadata": {},
   "outputs": [],
   "source": [
    "# Building stack decoder using Sequential model\n",
    "\n",
    "stacked_decoder = tf.keras.models.Sequential([\n",
    "    \n",
    "    layers.Dense(32, activation='relu', input_shape=[16]),\n",
    "    \n",
    "    layers.Dense(64, activation='relu'),\n",
    "    \n",
    "    layers.Dense(28 * 28, activation='relu'),\n",
    "    \n",
    "    layers.Reshape([28, 28])\n",
    "])"
   ]
  },
  {
   "cell_type": "code",
   "execution_count": 28,
   "metadata": {},
   "outputs": [
    {
     "name": "stdout",
     "output_type": "stream",
     "text": [
      "Model: \"sequential_3\"\n",
      "_________________________________________________________________\n",
      "Layer (type)                 Output Shape              Param #   \n",
      "=================================================================\n",
      "sequential (Sequential)      (None, 16)                52848     \n",
      "_________________________________________________________________\n",
      "sequential_1 (Sequential)    (None, 28, 28)            53616     \n",
      "=================================================================\n",
      "Total params: 106,464\n",
      "Trainable params: 106,464\n",
      "Non-trainable params: 0\n",
      "_________________________________________________________________\n"
     ]
    }
   ],
   "source": [
    "# Stack the decoder and encoder using a Sequential model\n",
    "\n",
    "ae_model = tf.keras.models.Sequential([stacked_encoder, stacked_decoder])\n",
    "\n",
    "ae_model.summary()"
   ]
  },
  {
   "cell_type": "code",
   "execution_count": 31,
   "metadata": {},
   "outputs": [],
   "source": [
    "# Compile model\n",
    "\n",
    "ae_model.compile(loss='mean_squared_error',\n",
    "                 optimizer=tf.keras.optimizers.RMSprop(),\n",
    "                 metrics=['mse'])"
   ]
  },
  {
   "cell_type": "code",
   "execution_count": 33,
   "metadata": {},
   "outputs": [
    {
     "name": "stdout",
     "output_type": "stream",
     "text": [
      "Train on 14898 samples\n",
      "Epoch 1/20\n",
      "14898/14898 [==============================] - 2s 123us/sample - loss: 0.0565 - mse: 0.0565\n",
      "Epoch 2/20\n",
      "14898/14898 [==============================] - 1s 91us/sample - loss: 0.0392 - mse: 0.0392\n",
      "Epoch 3/20\n",
      "14898/14898 [==============================] - 1s 90us/sample - loss: 0.0356 - mse: 0.0356\n",
      "Epoch 4/20\n",
      "14898/14898 [==============================] - 1s 93us/sample - loss: 0.0335 - mse: 0.0335\n",
      "Epoch 5/20\n",
      "14898/14898 [==============================] - 2s 105us/sample - loss: 0.0310 - mse: 0.0310\n",
      "Epoch 6/20\n",
      "14898/14898 [==============================] - 1s 96us/sample - loss: 0.0294 - mse: 0.0294\n",
      "Epoch 7/20\n",
      "14898/14898 [==============================] - 1s 76us/sample - loss: 0.0284 - mse: 0.0284\n",
      "Epoch 8/20\n",
      "14898/14898 [==============================] - 1s 80us/sample - loss: 0.0277 - mse: 0.0277\n",
      "Epoch 9/20\n",
      "14898/14898 [==============================] - 2s 105us/sample - loss: 0.0269 - mse: 0.0269\n",
      "Epoch 10/20\n",
      "14898/14898 [==============================] - 1s 92us/sample - loss: 0.0262 - mse: 0.0262\n",
      "Epoch 11/20\n",
      "14898/14898 [==============================] - 1s 92us/sample - loss: 0.0257 - mse: 0.0257\n",
      "Epoch 12/20\n",
      "14898/14898 [==============================] - 1s 100us/sample - loss: 0.0252 - mse: 0.0252\n",
      "Epoch 13/20\n",
      "14898/14898 [==============================] - 2s 108us/sample - loss: 0.0249 - mse: 0.0249\n",
      "Epoch 14/20\n",
      "14898/14898 [==============================] - 1s 89us/sample - loss: 0.0246 - mse: 0.0246\n",
      "Epoch 15/20\n",
      "14898/14898 [==============================] - 1s 82us/sample - loss: 0.0243 - mse: 0.0243\n",
      "Epoch 16/20\n",
      "14898/14898 [==============================] - 1s 88us/sample - loss: 0.0241 - mse: 0.0241\n",
      "Epoch 17/20\n",
      "14898/14898 [==============================] - 1s 78us/sample - loss: 0.0238 - mse: 0.0238\n",
      "Epoch 18/20\n",
      "14898/14898 [==============================] - 1s 84us/sample - loss: 0.0236 - mse: 0.0236\n",
      "Epoch 19/20\n",
      "14898/14898 [==============================] - 2s 122us/sample - loss: 0.0234 - mse: 0.0234\n",
      "Epoch 20/20\n",
      "14898/14898 [==============================] - 1s 89us/sample - loss: 0.0232 - mse: 0.0232\n"
     ]
    }
   ],
   "source": [
    "# Train model\n",
    "\n",
    "training_hist = ae_model.fit(train_images,\n",
    "                             train_images,\n",
    "                             epochs=20, verbose=True)"
   ]
  },
  {
   "cell_type": "markdown",
   "metadata": {},
   "source": [
    "### Reconstructing images"
   ]
  },
  {
   "cell_type": "code",
   "execution_count": 34,
   "metadata": {},
   "outputs": [],
   "source": [
    "\n",
    "def reconstruct_img(model, images, n_imgs):\n",
    "    \n",
    "    random_int = randint(0, images.shape[0] - n_imgs)\n",
    "    \n",
    "    reconstructions = model.predict(images[random_int : random_int + n_imgs])\n",
    "    \n",
    "    fig = plt.figure(figsize=(n_imgs * 3, 3))\n",
    "    \n",
    "    for img_index in range(n_imgs):\n",
    "        plt.subplot(2, n_imgs, 1 + img_index)\n",
    "        plt.imshow(images[random_int + img_index], cmap='Greys')\n",
    "        \n",
    "        plt.subplot(2, n_imgs, 1 + n_imgs + img_index)\n",
    "        plt.imshow(reconstructions[img_index], cmap='Greys')"
   ]
  },
  {
   "cell_type": "code",
   "execution_count": 38,
   "metadata": {},
   "outputs": [
    {
     "data": {
      "image/png": "[encoded data removed]",
      "text/plain": [
       "<Figure size 1080x216 with 10 Axes>"
      ]
     },
     "metadata": {
      "needs_background": "light"
     },
     "output_type": "display_data"
    }
   ],
   "source": [
    "reconstruct_img(ae_model, test_images, 5)"
   ]
  },
  {
   "cell_type": "code",
   "execution_count": 37,
   "metadata": {},
   "outputs": [
    {
     "data": {
      "image/png": "[encoded data removed]",
      "text/plain": [
       "<Figure size 1080x216 with 10 Axes>"
      ]
     },
     "metadata": {
      "needs_background": "light"
     },
     "output_type": "display_data"
    }
   ],
   "source": [
    "reconstruct_img(ae_model, test_images, 5)"
   ]
  },
  {
   "cell_type": "code",
   "execution_count": 39,
   "metadata": {},
   "outputs": [
    {
     "data": {
      "image/png": "[encoded data removed]",
      "text/plain": [
       "<Figure size 1080x216 with 10 Axes>"
      ]
     },
     "metadata": {
      "needs_background": "light"
     },
     "output_type": "display_data"
    }
   ],
   "source": [
    "reconstruct_img(ae_model, test_images, 5)"
   ]
  },
  {
   "cell_type": "code",
   "execution_count": 40,
   "metadata": {},
   "outputs": [
    {
     "data": {
      "image/png": "[encoded data removed]",
      "text/plain": [
       "<Figure size 1080x216 with 10 Axes>"
      ]
     },
     "metadata": {
      "needs_background": "light"
     },
     "output_type": "display_data"
    }
   ],
   "source": [
    "reconstruct_img(ae_model, test_images, 5)"
   ]
  },
  {
   "cell_type": "code",
   "execution_count": 41,
   "metadata": {},
   "outputs": [
    {
     "data": {
      "image/png": "[encoded data removed]",
      "text/plain": [
       "<Figure size 1080x216 with 10 Axes>"
      ]
     },
     "metadata": {
      "needs_background": "light"
     },
     "output_type": "display_data"
    }
   ],
   "source": [
    "reconstruct_img(ae_model, test_images, 5)"
   ]
  },
  {
   "cell_type": "markdown",
   "metadata": {},
   "source": [
    "## Reconstructing Images Using a CNN based Autoencoder"
   ]
  },
  {
   "cell_type": "code",
   "execution_count": 43,
   "metadata": {},
   "outputs": [],
   "source": [
    "# Building a CNN based encoder using a Sequential Model\n",
    "\n",
    "conv_encoder = tf.keras.models.Sequential([\n",
    "    \n",
    "    layers.Reshape([28, 28, 1], input_shape=[28, 28]),\n",
    "    \n",
    "    layers.Conv2D(16, kernel_size=3, padding='SAME', activation='relu'),\n",
    "    layers.MaxPool2D(pool_size=2),\n",
    "    \n",
    "    layers.Conv2D(32, kernel_size=3, padding='SAME', activation='relu'),\n",
    "    layers.MaxPool2D(pool_size=2),\n",
    "    \n",
    "    layers.Conv2D(64, kernel_size=3, padding='SAME', activation='relu'),\n",
    "    layers.MaxPool2D(pool_size=2)\n",
    "])\n"
   ]
  },
  {
   "cell_type": "code",
   "execution_count": 48,
   "metadata": {},
   "outputs": [],
   "source": [
    "# Building a CNN based decoder using a Sequential Model\n",
    "\n",
    "conv_decoder = tf.keras.models.Sequential([\n",
    "    \n",
    "    layers.Conv2DTranspose(32, kernel_size=3, strides=2,\n",
    "                          padding=\"VALID\", activation=\"relu\",\n",
    "                          input_shape=[3, 3, 64]),\n",
    "    \n",
    "    layers.Conv2DTranspose(16, kernel_size=3, strides=2,\n",
    "                           padding='SAME', activation='relu'),\n",
    "    \n",
    "    layers.Conv2DTranspose(1, kernel_size=3, strides=2,\n",
    "                           padding='SAME', activation='sigmoid'),\n",
    "    \n",
    "    layers.Reshape([28, 28])\n",
    "])"
   ]
  },
  {
   "cell_type": "code",
   "execution_count": 49,
   "metadata": {},
   "outputs": [
    {
     "name": "stdout",
     "output_type": "stream",
     "text": [
      "Model: \"sequential_7\"\n",
      "_________________________________________________________________\n",
      "Layer (type)                 Output Shape              Param #   \n",
      "=================================================================\n",
      "sequential_4 (Sequential)    (None, 3, 3, 64)          23296     \n",
      "_________________________________________________________________\n",
      "sequential_6 (Sequential)    (None, 28, 28)            23233     \n",
      "=================================================================\n",
      "Total params: 46,529\n",
      "Trainable params: 46,529\n",
      "Non-trainable params: 0\n",
      "_________________________________________________________________\n"
     ]
    }
   ],
   "source": [
    "# Stack ecoder and the decoder\n",
    "\n",
    "conv_ae_model = tf.keras.models.Sequential([conv_encoder, conv_decoder])\n",
    "\n",
    "conv_ae_model.summary()"
   ]
  },
  {
   "cell_type": "code",
   "execution_count": 50,
   "metadata": {},
   "outputs": [],
   "source": [
    "# Compile the model\n",
    "\n",
    "conv_ae_model.compile(loss=tf.keras.losses.BinaryCrossentropy(),\n",
    "                      optimizer=tf.keras.optimizers.SGD(lr=1.0),\n",
    "                      metrics=['mse'])"
   ]
  },
  {
   "cell_type": "code",
   "execution_count": 51,
   "metadata": {},
   "outputs": [
    {
     "name": "stdout",
     "output_type": "stream",
     "text": [
      "Train on 14898 samples\n",
      "Epoch 1/10\n",
      "14898/14898 [==============================] - 11s 760us/sample - loss: 0.2950 - mse: 0.0700\n",
      "Epoch 2/10\n",
      "14898/14898 [==============================] - 11s 724us/sample - loss: 0.1481 - mse: 0.0241\n",
      "Epoch 3/10\n",
      "14898/14898 [==============================] - 11s 724us/sample - loss: 0.1267 - mse: 0.0167\n",
      "Epoch 4/10\n",
      "14898/14898 [==============================] - 11s 709us/sample - loss: 0.1169 - mse: 0.0134\n",
      "Epoch 5/10\n",
      "14898/14898 [==============================] - 11s 757us/sample - loss: 0.1112 - mse: 0.0115\n",
      "Epoch 6/10\n",
      "14898/14898 [==============================] - 12s 829us/sample - loss: 0.1071 - mse: 0.0102\n",
      "Epoch 7/10\n",
      "14898/14898 [==============================] - 13s 847us/sample - loss: 0.1045 - mse: 0.0093\n",
      "Epoch 8/10\n",
      "14898/14898 [==============================] - 16s 1ms/sample - loss: 0.1024 - mse: 0.0086\n",
      "Epoch 9/10\n",
      "14898/14898 [==============================] - 12s 799us/sample - loss: 0.1007 - mse: 0.0081\n",
      "Epoch 10/10\n",
      "14898/14898 [==============================] - 11s 717us/sample - loss: 0.0994 - mse: 0.0077\n"
     ]
    }
   ],
   "source": [
    "# Train the model\n",
    "\n",
    "training_hist_convAE = conv_ae_model.fit(train_images, train_images, epochs=10)"
   ]
  },
  {
   "cell_type": "code",
   "execution_count": 52,
   "metadata": {},
   "outputs": [
    {
     "data": {
      "image/png": "[encoded data removed]",
      "text/plain": [
       "<Figure size 1080x216 with 10 Axes>"
      ]
     },
     "metadata": {
      "needs_background": "light"
     },
     "output_type": "display_data"
    }
   ],
   "source": [
    "# Test the model\n",
    "\n",
    "reconstruct_img(conv_ae_model, test_images, 5)"
   ]
  },
  {
   "cell_type": "code",
   "execution_count": 53,
   "metadata": {},
   "outputs": [
    {
     "data": {
      "image/png": "[encoded data removed]",
      "text/plain": [
       "<Figure size 1080x216 with 10 Axes>"
      ]
     },
     "metadata": {
      "needs_background": "light"
     },
     "output_type": "display_data"
    }
   ],
   "source": [
    "reconstruct_img(conv_ae_model, test_images, 5)"
   ]
  },
  {
   "cell_type": "code",
   "execution_count": 54,
   "metadata": {},
   "outputs": [
    {
     "data": {
      "image/png": "[encoded data removed]",
      "text/plain": [
       "<Figure size 1080x216 with 10 Axes>"
      ]
     },
     "metadata": {
      "needs_background": "light"
     },
     "output_type": "display_data"
    }
   ],
   "source": [
    "reconstruct_img(conv_ae_model, test_images, 5)"
   ]
  },
  {
   "cell_type": "code",
   "execution_count": 55,
   "metadata": {},
   "outputs": [
    {
     "data": {
      "image/png": "[encoded data removed]",
      "text/plain": [
       "<Figure size 1080x216 with 10 Axes>"
      ]
     },
     "metadata": {
      "needs_background": "light"
     },
     "output_type": "display_data"
    }
   ],
   "source": [
    "reconstruct_img(conv_ae_model, test_images, 5)"
   ]
  },
  {
   "cell_type": "code",
   "execution_count": null,
   "metadata": {},
   "outputs": [],
   "source": []
  }
 ],
 "metadata": {
  "kernelspec": {
   "display_name": "Python 3",
   "language": "python",
   "name": "python3"
  },
  "language_info": {
   "codemirror_mode": {
    "name": "ipython",
    "version": 3
   },
   "file_extension": ".py",
   "mimetype": "text/x-python",
   "name": "python",
   "nbconvert_exporter": "python",
   "pygments_lexer": "ipython3",
   "version": "3.7.6"
  }
 },
 "nbformat": 4,
 "nbformat_minor": 4
}
